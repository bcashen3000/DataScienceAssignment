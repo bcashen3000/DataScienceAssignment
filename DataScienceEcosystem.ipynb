{
  "metadata": {
    "kernelspec": {
      "name": "python",
      "display_name": "Python (Pyodide)",
      "language": "python"
    },
    "language_info": {
      "codemirror_mode": {
        "name": "python",
        "version": 3
      },
      "file_extension": ".py",
      "mimetype": "text/x-python",
      "name": "python",
      "nbconvert_exporter": "python",
      "pygments_lexer": "ipython3",
      "version": "3.8"
    }
  },
  "nbformat_minor": 5,
  "nbformat": 4,
  "cells": [
    {
      "id": "d4896b28-843f-4fdc-973c-ed662cc6988c",
      "cell_type": "markdown",
      "source": "# Data Science Tools and Ecosystem",
      "metadata": {}
    },
    {
      "id": "407f077d-236d-4f06-8c3c-33484c657532",
      "cell_type": "markdown",
      "source": "In this notebook, Data Science Tools and Ecosystem are summarized",
      "metadata": {}
    },
    {
      "id": "764eecb4-8aeb-4f68-b21b-c24c400b6968",
      "cell_type": "markdown",
      "source": "Some of the popular languages that Data Scientists use are:",
      "metadata": {}
    },
    {
      "id": "91d3450b-faba-4634-9d5b-9610d22057c1",
      "cell_type": "markdown",
      "source": "1. Python\n2. R\n3. Scala",
      "metadata": {}
    },
    {
      "id": "38de3791-78ce-4ce9-97c5-e72a48961b26",
      "cell_type": "markdown",
      "source": "Some of the commonly used libraries used by Data Scientists include:\n\n1. Pandas\n2. NumPy\n3. Matplotlib\n4. Seaborn",
      "metadata": {}
    },
    {
      "id": "bd2b0160-839d-4a8d-82f4-db33579adf89",
      "cell_type": "markdown",
      "source": "| DATA SCIENCE TOOLS |\n|--------------------|\n| RStudio |\n| Apache Spark |\n|TensorFlow|\n",
      "metadata": {}
    },
    {
      "id": "b979a1ca-c3d9-48e4-a932-e2c00977eb57",
      "cell_type": "markdown",
      "source": "### Below are a few examples of evaluating arithmetic expressions in Python",
      "metadata": {}
    },
    {
      "id": "8d712c8f-a174-4c72-867c-b4c404f4eec2",
      "cell_type": "code",
      "source": "# Here is an example of an arithmetic expression to multiply then add intergers.\n(3*4)+5\n",
      "metadata": {
        "trusted": true
      },
      "outputs": [
        {
          "execution_count": 11,
          "output_type": "execute_result",
          "data": {
            "text/plain": "17"
          },
          "metadata": {}
        }
      ],
      "execution_count": 11
    },
    {
      "id": "616bfde3-4277-48b9-a768-744f629ccfdf",
      "cell_type": "code",
      "source": "# This will convert 200 minutes to hours by dividing by 60.\n200/60",
      "metadata": {
        "trusted": true
      },
      "outputs": [
        {
          "execution_count": 12,
          "output_type": "execute_result",
          "data": {
            "text/plain": "3.3333333333333335"
          },
          "metadata": {}
        }
      ],
      "execution_count": 12
    },
    {
      "id": "d9d1a199-fde8-4dfa-affe-2bcaa94efd78",
      "cell_type": "markdown",
      "source": "**Objectives:**\n* Python\n* R\n* SQL\n* Java\n* Scala\n* Julia\n* JavaScript",
      "metadata": {}
    },
    {
      "id": "113eecf2-1df5-4b17-be96-b5e5c687e10a",
      "cell_type": "markdown",
      "source": "## Author\nBen Cashen",
      "metadata": {}
    }
  ]
}